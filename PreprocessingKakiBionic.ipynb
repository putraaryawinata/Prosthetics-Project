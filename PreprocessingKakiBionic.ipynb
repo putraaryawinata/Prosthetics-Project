{
  "nbformat": 4,
  "nbformat_minor": 0,
  "metadata": {
    "colab": {
      "name": "PreprocessingKakiBionic.ipynb",
      "provenance": [],
      "authorship_tag": "ABX9TyM2CWqi1vxerh5KZMcwv3Ev",
      "include_colab_link": true
    },
    "kernelspec": {
      "name": "python3",
      "display_name": "Python 3"
    },
    "language_info": {
      "name": "python"
    }
  },
  "cells": [
    {
      "cell_type": "markdown",
      "metadata": {
        "id": "view-in-github",
        "colab_type": "text"
      },
      "source": [
        "<a href=\"https://colab.research.google.com/github/putraaryawinata/Prosthetics-Project/blob/master/PreprocessingKakiBionic.ipynb\" target=\"_parent\"><img src=\"https://colab.research.google.com/assets/colab-badge.svg\" alt=\"Open In Colab\"/></a>"
      ]
    },
    {
      "cell_type": "code",
      "execution_count": 2,
      "metadata": {
        "id": "_fR_LGEFB68M"
      },
      "outputs": [],
      "source": [
        "import numpy as np\n",
        "import pandas as pd\n",
        "import matplotlib.pyplot as plt"
      ]
    },
    {
      "cell_type": "code",
      "source": [
        "import tensorflow as tf\n",
        "# import tensorflow_addons as tfa\n",
        "tf.__version__\n",
        "# tfa.__version__"
      ],
      "metadata": {
        "colab": {
          "base_uri": "https://localhost:8080/",
          "height": 35
        },
        "id": "0iW7FWyHOZz-",
        "outputId": "325825f1-6606-486f-d8c0-16d1dc6d6de7"
      },
      "execution_count": 3,
      "outputs": [
        {
          "output_type": "execute_result",
          "data": {
            "text/plain": [
              "'2.8.2'"
            ],
            "application/vnd.google.colaboratory.intrinsic+json": {
              "type": "string"
            }
          },
          "metadata": {},
          "execution_count": 3
        }
      ]
    },
    {
      "cell_type": "code",
      "source": [
        "def array_to_excel(array, name_file):\n",
        "  df = pd.DataFrame(array)\n",
        "  df.to_excel(excel_writer = \"{}.xlsx\".format(name_file))"
      ],
      "metadata": {
        "id": "IGIBxylby1oP"
      },
      "execution_count": 13,
      "outputs": []
    },
    {
      "cell_type": "markdown",
      "source": [
        "# Kalman Preprocessing"
      ],
      "metadata": {
        "id": "MSeqrFQzCVkx"
      }
    },
    {
      "cell_type": "code",
      "source": [
        "def kalman_filter(dataset, init_val = None, init_sd = 0.5, measure_sd = 0.1315, Q = 0.01):\n",
        "  if init_val == None:\n",
        "    init_val = dataset[0]\n",
        "  x = init_val\n",
        "  p = init_sd + Q\n",
        "  m_sd = measure_sd\n",
        "  \n",
        "  arr_x = np.array([])\n",
        "  arr_p = np.array([])\n",
        "  arr_K = np.array([])\n",
        "\n",
        "  for i in range(len(dataset)):\n",
        "    K_gain = p / (p + m_sd)\n",
        "    x = x + K_gain * (dataset[i] - x)\n",
        "    p = ((1 - K_gain) * p) + Q\n",
        "\n",
        "    arr_x = np.append(arr_x, x)\n",
        "    arr_p = np.append(arr_p, p)\n",
        "    arr_K = np.append(arr_K, K_gain)\n",
        "  \n",
        "  return arr_x, arr_p, arr_K"
      ],
      "metadata": {
        "id": "bqENFjwJCCa9"
      },
      "execution_count": 16,
      "outputs": []
    },
    {
      "cell_type": "code",
      "source": [
        "naik_tangga = pd.read_csv('naik_tangga22mei.csv')\n",
        "sudut_naik_tangga = naik_tangga.iloc[:, 1:].values\n",
        "\n",
        "turun_tangga = pd.read_csv('turun_tangga22mei.csv')\n",
        "sudut_turun_tangga = turun_tangga.iloc[:, 1:].values"
      ],
      "metadata": {
        "id": "7C_eDv0tCEvF"
      },
      "execution_count": 27,
      "outputs": []
    },
    {
      "cell_type": "code",
      "source": [
        "kalman_naik_tangga, _, _ = kalman_filter(sudut_naik_tangga, init_val = None, init_sd = 0.5, measure_sd = 0.1315, Q = 0.01)\n",
        "kalman_turun_tangga, _, _ = kalman_filter(sudut_turun_tangga, init_val = None, init_sd = 0.5, measure_sd = 0.1315, Q = 0.01)"
      ],
      "metadata": {
        "id": "lIMe04gnCIbz"
      },
      "execution_count": 29,
      "outputs": []
    },
    {
      "cell_type": "code",
      "source": [
        "array_to_excel(sudut_naik_tangga, \"sudut/sudut_naik_tangga_raw\")\n",
        "array_to_excel(sudut_turun_tangga, \"sudut/sudut_turun_tangga_raw\")\n",
        "array_to_excel(kalman_naik_tangga, \"sudut/sudut_naik_tangga_kalman\")\n",
        "array_to_excel(kalman_turun_tangga, \"sudut/sudut_turun_tangga_kalman\")"
      ],
      "metadata": {
        "id": "dLiiC2ueWWlO"
      },
      "execution_count": 31,
      "outputs": []
    },
    {
      "cell_type": "code",
      "source": [
        "plt.plot(sudut_naik_tangga[:400], label = \"measurement\")\n",
        "plt.plot(kalman_naik_tangga[:400], label = \"kalman-filtered\")\n",
        "plt.xlabel('time')\n",
        "plt.ylabel('analog value of the sensor')\n",
        "plt.title('IMU Sensor Value on X-axis')\n",
        "plt.legend(loc='upper left')\n",
        "plt.show()"
      ],
      "metadata": {
        "colab": {
          "base_uri": "https://localhost:8080/",
          "height": 295
        },
        "id": "rDheLE5WCKGF",
        "outputId": "31db9618-b163-4ea2-c220-d852903c590a"
      },
      "execution_count": null,
      "outputs": [
        {
          "output_type": "display_data",
          "data": {
            "text/plain": [
              "<Figure size 432x288 with 1 Axes>"
            ],
            "image/png": "[encoded data removed]"
          },
          "metadata": {
            "needs_background": "light"
          }
        }
      ]
    },
    {
      "cell_type": "code",
      "source": [
        "plt.plot(sudut_turun_tangga[:400], label = \"measurement\")\n",
        "plt.plot(kalman_turun_tangga[:400], label = \"kalman-filtered\")\n",
        "plt.xlabel('time')\n",
        "plt.ylabel('degree')\n",
        "plt.title('Angle Value from the MediaPipe')\n",
        "plt.legend(loc='upper left')\n",
        "plt.show()"
      ],
      "metadata": {
        "colab": {
          "base_uri": "https://localhost:8080/",
          "height": 295
        },
        "id": "xxxuA-m3CPOf",
        "outputId": "832e8caf-944b-4db0-f734-2f50dd623b53"
      },
      "execution_count": null,
      "outputs": [
        {
          "output_type": "display_data",
          "data": {
            "text/plain": [
              "<Figure size 432x288 with 1 Axes>"
            ],
            "image/png": "[encoded data removed]"
          },
          "metadata": {
            "needs_background": "light"
          }
        }
      ]
    },
    {
      "cell_type": "code",
      "source": [
        "kalman_naik_tangga.shape"
      ],
      "metadata": {
        "colab": {
          "base_uri": "https://localhost:8080/"
        },
        "id": "xP1ppvivHaqC",
        "outputId": "0ad9e0d5-290a-4dc1-8df8-f54402df3238"
      },
      "execution_count": null,
      "outputs": [
        {
          "output_type": "execute_result",
          "data": {
            "text/plain": [
              "(2949,)"
            ]
          },
          "metadata": {},
          "execution_count": 17
        }
      ]
    },
    {
      "cell_type": "code",
      "source": [
        "kalman_turun_tangga.shape"
      ],
      "metadata": {
        "colab": {
          "base_uri": "https://localhost:8080/"
        },
        "id": "24kJTK7THmvq",
        "outputId": "f1278fd5-9f31-4356-9442-62aaaabcc3b4"
      },
      "execution_count": null,
      "outputs": [
        {
          "output_type": "execute_result",
          "data": {
            "text/plain": [
              "(2708,)"
            ]
          },
          "metadata": {},
          "execution_count": 11
        }
      ]
    },
    {
      "cell_type": "markdown",
      "source": [
        "# Olah data sensor"
      ],
      "metadata": {
        "id": "b8hSYzvIChKZ"
      }
    },
    {
      "cell_type": "code",
      "source": [
        "import re"
      ],
      "metadata": {
        "id": "dRhKzdzNGrlk"
      },
      "execution_count": 1,
      "outputs": []
    },
    {
      "cell_type": "code",
      "source": [
        "def preprocess_signal_fsr(txt_path):\n",
        "  rows = []\n",
        "  with open(txt_path) as f:\n",
        "    lines_naik = f.readlines()\n",
        "  for line in lines_naik:\n",
        "    data = re.search(r\"(.*) -> A0 (.*) A1 (.*) A2 (.*) A3 (.*) A4 (.*) A5 (.*) \", line)\n",
        "    rows.append([data.group(1), int(data.group(2)), int(data.group(3)), int(data.group(4)), int(data.group(5)), int(data.group(6)), int(data.group(7))])\n",
        "  \n",
        "  return rows"
      ],
      "metadata": {
        "id": "ZUhf-OuqGY3-"
      },
      "execution_count": 4,
      "outputs": []
    },
    {
      "cell_type": "code",
      "source": [
        "signal_naik_tangga = np.array(preprocess_signal_fsr('test10mei22(naikTangga).txt'))\n",
        "signal_naik_tangga = signal_naik_tangga[:, 1:]\n",
        "signal_naik_tangga = signal_naik_tangga.astype(float)\n",
        "print(signal_naik_tangga.shape)\n",
        "\n",
        "signal_turun_tangga = np.array(preprocess_signal_fsr('test10mei22(turunTangga).txt'))\n",
        "signal_turun_tangga = signal_turun_tangga[:, 1:]\n",
        "signal_turun_tangga = signal_turun_tangga.astype(float)\n",
        "print(signal_turun_tangga.shape)"
      ],
      "metadata": {
        "id": "qCXMfLsKCjF3",
        "colab": {
          "base_uri": "https://localhost:8080/"
        },
        "outputId": "d83bc1e9-65c5-46d9-bf18-fe3eb0b53658"
      },
      "execution_count": 9,
      "outputs": [
        {
          "output_type": "stream",
          "name": "stdout",
          "text": [
            "(2903, 6)\n",
            "(2671, 6)\n"
          ]
        }
      ]
    },
    {
      "cell_type": "code",
      "source": [
        "array_to_excel(signal_naik_tangga, \"signal_naik_tangga_raw\")\n",
        "array_to_excel(signal_turun_tangga, \"signal_turun_tangga_raw\")"
      ],
      "metadata": {
        "id": "6cDpzyVrz74f"
      },
      "execution_count": 14,
      "outputs": []
    },
    {
      "cell_type": "code",
      "source": [
        "signal_turun_tangga.shape"
      ],
      "metadata": {
        "colab": {
          "base_uri": "https://localhost:8080/"
        },
        "id": "XAsR-3_e0yDr",
        "outputId": "bfe45e49-28eb-4309-8e46-cdc46a615e2d"
      },
      "execution_count": 23,
      "outputs": [
        {
          "output_type": "execute_result",
          "data": {
            "text/plain": [
              "(2671, 6)"
            ]
          },
          "metadata": {},
          "execution_count": 23
        }
      ]
    },
    {
      "cell_type": "code",
      "source": [
        "kalman_sensor_naik_tangga, _, _ = kalman_filter(signal_naik_tangga, init_val = None, init_sd = 0.5, measure_sd = 0.1315, Q = 0.01)\n",
        "kalman_sensor_turun_tangga, _, _ = kalman_filter(signal_turun_tangga, init_val = None, init_sd = 0.5, measure_sd = 0.1315, Q = 0.01)"
      ],
      "metadata": {
        "id": "pi8ZmLgwU-l0"
      },
      "execution_count": 24,
      "outputs": []
    },
    {
      "cell_type": "code",
      "source": [
        "kalman_sensor_naik_tangga = kalman_sensor_naik_tangga.reshape(2903, 6)\n",
        "kalman_sensor_turun_tangga = kalman_sensor_turun_tangga.reshape(2671, 6)"
      ],
      "metadata": {
        "id": "N2H8rtRJWxXP"
      },
      "execution_count": 25,
      "outputs": []
    },
    {
      "cell_type": "code",
      "source": [
        "array_to_excel(kalman_sensor_naik_tangga, \"signal_naik_tangga_kalman\")\n",
        "array_to_excel(kalman_sensor_turun_tangga, \"signal_turun_tangga_kalman\")"
      ],
      "metadata": {
        "id": "HTqMuIYV0ZUr"
      },
      "execution_count": 26,
      "outputs": []
    },
    {
      "cell_type": "code",
      "source": [
        "kalman_sensor_naik_tangga[:400, 0]"
      ],
      "metadata": {
        "id": "3vIT1PR4YD4f"
      },
      "execution_count": null,
      "outputs": []
    },
    {
      "cell_type": "code",
      "source": [
        "plt.plot(signal_naik_tangga[:400, 5], label = \"measurement\")\n",
        "plt.plot(kalman_sensor_naik_tangga[:400, 5], label = \"kalman-filtered\")\n",
        "plt.xlabel('time')\n",
        "plt.ylabel('analog value of the sensor')\n",
        "plt.title('FSR402 Sensor Value')\n",
        "plt.legend(loc='upper left')\n",
        "plt.show()"
      ],
      "metadata": {
        "colab": {
          "base_uri": "https://localhost:8080/",
          "height": 295
        },
        "id": "qGkn1upzW1rP",
        "outputId": "580bfec5-5836-439c-fc16-37e9556d48eb"
      },
      "execution_count": null,
      "outputs": [
        {
          "output_type": "display_data",
          "data": {
            "text/plain": [
              "<Figure size 432x288 with 1 Axes>"
            ],
            "image/png": "[encoded data removed]"
          },
          "metadata": {
            "needs_background": "light"
          }
        }
      ]
    },
    {
      "cell_type": "markdown",
      "source": [
        "# Combine Data Kalman dengan Sensor "
      ],
      "metadata": {
        "id": "VeavYA25CaH8"
      }
    },
    {
      "cell_type": "code",
      "source": [
        "# Data Sudut\n",
        "kalman_naik_tangga = kalman_naik_tangga[:len(signal_naik_tangga)]\n",
        "y_train = kalman_naik_tangga[:2323]\n",
        "y_valid = kalman_naik_tangga[2323: 2613]\n",
        "y_test = kalman_naik_tangga[2613:]\n",
        "\n",
        "kalman_turun_tangga = kalman_turun_tangga[:len(signal_turun_tangga)]\n",
        "y_train = np.append(y_train, kalman_turun_tangga[:2137], axis=0)\n",
        "y_valid = np.append(y_valid, kalman_turun_tangga[2137: 2404], axis=0)\n",
        "y_test = np.append(y_test, kalman_turun_tangga[2404:], axis=0)\n",
        "\n",
        "# Data Signal\n",
        "x_train = signal_naik_tangga[:2323]\n",
        "x_valid = signal_naik_tangga[2323: 2613]\n",
        "x_test = signal_naik_tangga[2613:]\n",
        "\n",
        "x_train = np.append(x_train, signal_turun_tangga[:2137], axis=0)\n",
        "x_valid = np.append(x_valid, signal_turun_tangga[2137: 2404], axis=0)\n",
        "x_test = np.append(x_test, signal_turun_tangga[2404:], axis=0)"
      ],
      "metadata": {
        "id": "QvC_hYkFCj0H"
      },
      "execution_count": null,
      "outputs": []
    },
    {
      "cell_type": "code",
      "source": [
        "x_test[:2]"
      ],
      "metadata": {
        "colab": {
          "base_uri": "https://localhost:8080/"
        },
        "id": "GnWvWMbMLCa3",
        "outputId": "67b0e627-1b5d-40e5-e621-0e5488fc39ac"
      },
      "execution_count": null,
      "outputs": [
        {
          "output_type": "execute_result",
          "data": {
            "text/plain": [
              "array([[111., 225., 167.,   2., 219., 335.],\n",
              "       [131., 289., 258.,   2., 242., 342.]])"
            ]
          },
          "metadata": {},
          "execution_count": 20
        }
      ]
    },
    {
      "cell_type": "code",
      "source": [
        "x_test[2:4]"
      ],
      "metadata": {
        "colab": {
          "base_uri": "https://localhost:8080/"
        },
        "id": "BLh7OtO9LGSB",
        "outputId": "6db1c3f2-672a-4fc3-da8f-a14b86d14b90"
      },
      "execution_count": null,
      "outputs": [
        {
          "output_type": "execute_result",
          "data": {
            "text/plain": [
              "array([[ 63., 324., 326.,   2., 268., 331.],\n",
              "       [ 52., 349., 461.,   3., 344., 344.]])"
            ]
          },
          "metadata": {},
          "execution_count": 21
        }
      ]
    },
    {
      "cell_type": "code",
      "source": [
        "for i in range(4):\n",
        "  print(i)"
      ],
      "metadata": {
        "colab": {
          "base_uri": "https://localhost:8080/"
        },
        "id": "EmeRjyEsLUAw",
        "outputId": "547963b8-6249-4bd3-a14c-7cb2ddb7803d"
      },
      "execution_count": null,
      "outputs": [
        {
          "output_type": "stream",
          "name": "stdout",
          "text": [
            "0\n",
            "1\n",
            "2\n",
            "3\n"
          ]
        }
      ]
    },
    {
      "cell_type": "code",
      "source": [
        "def windowed_dataset(dataset, num_window):\n",
        "  num_axis = len(dataset.shape)\n",
        "  windowed_ds = np.expand_dims(dataset[:num_window], axis=0)\n",
        "  for i in range(len(dataset) - num_window):\n",
        "    windowed_ds = np.append(windowed_ds, np.expand_dims(dataset[i+1:i+1+num_window], axis=0), axis=0)\n",
        "  \n",
        "  return windowed_ds"
      ],
      "metadata": {
        "id": "vNRyPkqHT6jP"
      },
      "execution_count": null,
      "outputs": []
    },
    {
      "cell_type": "code",
      "source": [
        "len(x_train.shape ) "
      ],
      "metadata": {
        "colab": {
          "base_uri": "https://localhost:8080/"
        },
        "id": "bWpD0tLhRDFz",
        "outputId": "c77d0321-c03d-4bd0-fd5e-09120b6f3ff9"
      },
      "execution_count": null,
      "outputs": [
        {
          "output_type": "execute_result",
          "data": {
            "text/plain": [
              "3"
            ]
          },
          "metadata": {},
          "execution_count": 64
        }
      ]
    },
    {
      "cell_type": "code",
      "source": [
        "test = np.expand_dims(x_train[:10], axis=0)\n",
        "test.shape"
      ],
      "metadata": {
        "colab": {
          "base_uri": "https://localhost:8080/"
        },
        "id": "-EY3UizWPjOA",
        "outputId": "5e71d00a-d1fa-4919-eecc-b668d87b35fd"
      },
      "execution_count": null,
      "outputs": [
        {
          "output_type": "execute_result",
          "data": {
            "text/plain": [
              "(1, 10, 6)"
            ]
          },
          "metadata": {},
          "execution_count": 62
        }
      ]
    },
    {
      "cell_type": "code",
      "source": [
        "print(windowed_dataset(x_train[:10], 10))"
      ],
      "metadata": {
        "colab": {
          "base_uri": "https://localhost:8080/"
        },
        "id": "WR_jAIp6OPPc",
        "outputId": "ae5f38ff-703c-4d1d-f1a8-22346c118945"
      },
      "execution_count": null,
      "outputs": [
        {
          "output_type": "stream",
          "name": "stdout",
          "text": [
            "[[[286. 541. 611. 176. 445. 532.]\n",
            "  [288. 547. 617. 194. 450. 534.]\n",
            "  [292. 551. 620. 199. 456. 539.]\n",
            "  [306. 554. 625. 204. 467. 549.]\n",
            "  [302. 552. 629. 194. 472. 551.]\n",
            "  [305. 549. 632. 200. 473. 553.]\n",
            "  [304. 555. 644. 229. 478. 568.]\n",
            "  [314. 604. 649. 221. 509. 589.]\n",
            "  [330. 630. 650. 220. 530. 598.]\n",
            "  [336. 642. 654. 219. 537. 599.]]]\n"
          ]
        }
      ]
    },
    {
      "cell_type": "code",
      "source": [
        "x_train[:10]"
      ],
      "metadata": {
        "colab": {
          "base_uri": "https://localhost:8080/"
        },
        "id": "qwhEBoKKOBvq",
        "outputId": "a146fab3-ce1e-4339-a888-9e944052ab30"
      },
      "execution_count": null,
      "outputs": [
        {
          "output_type": "execute_result",
          "data": {
            "text/plain": [
              "array([[286., 541., 611., 176., 445., 532.],\n",
              "       [288., 547., 617., 194., 450., 534.],\n",
              "       [292., 551., 620., 199., 456., 539.],\n",
              "       [306., 554., 625., 204., 467., 549.],\n",
              "       [302., 552., 629., 194., 472., 551.],\n",
              "       [305., 549., 632., 200., 473., 553.],\n",
              "       [304., 555., 644., 229., 478., 568.],\n",
              "       [314., 604., 649., 221., 509., 589.],\n",
              "       [330., 630., 650., 220., 530., 598.],\n",
              "       [336., 642., 654., 219., 537., 599.]])"
            ]
          },
          "metadata": {},
          "execution_count": 48
        }
      ]
    },
    {
      "cell_type": "code",
      "source": [
        "windowed_x_train = windowed_dataset(x_train, 50)\n",
        "windowed_x_valid = windowed_dataset(x_valid, 50)\n",
        "windowed_x_test = windowed_dataset(x_test, 50)"
      ],
      "metadata": {
        "id": "h-uzzu8YQox2"
      },
      "execution_count": null,
      "outputs": []
    },
    {
      "cell_type": "code",
      "source": [
        "print(\"windowed_x_train: {}\".format(windowed_x_train.shape))\n",
        "print(\"windowed_x_valid: {}\".format(windowed_x_valid.shape))\n",
        "print(\"windowed_x_test: {}\".format(windowed_x_test.shape))"
      ],
      "metadata": {
        "colab": {
          "base_uri": "https://localhost:8080/"
        },
        "id": "r67lYL9rM6ef",
        "outputId": "f2c2fd55-02c1-43da-993f-30cebb384d10"
      },
      "execution_count": null,
      "outputs": [
        {
          "output_type": "stream",
          "name": "stdout",
          "text": [
            "windowed_x_train: (4411, 50, 6)\n",
            "windowed_x_valid: (508, 50, 6)\n",
            "windowed_x_test: (508, 50, 6)\n"
          ]
        }
      ]
    },
    {
      "cell_type": "markdown",
      "source": [
        "\n",
        "\n",
        "```\n",
        "x_train: (4460, 6)\n",
        "x_valid: (557, 6)\n",
        "x_test: (557, 6)\n",
        "```\n",
        "\n"
      ],
      "metadata": {
        "id": "csVC6ZR24g2G"
      }
    },
    {
      "cell_type": "code",
      "source": [
        "windowed_y_train = windowed_dataset(y_train, 50)\n",
        "windowed_y_valid = windowed_dataset(y_valid, 50)\n",
        "windowed_y_test = windowed_dataset(y_test, 50)"
      ],
      "metadata": {
        "id": "2PPwXNAOTczY"
      },
      "execution_count": null,
      "outputs": []
    },
    {
      "cell_type": "code",
      "source": [
        "print(\"windowed_y_train: {}\".format(windowed_y_train.shape))\n",
        "print(\"windowed_y_valid: {}\".format(windowed_y_valid.shape))\n",
        "print(\"windowed_y_test: {}\".format(windowed_y_test.shape))"
      ],
      "metadata": {
        "colab": {
          "base_uri": "https://localhost:8080/"
        },
        "id": "OnVErBsqY6YR",
        "outputId": "3e40c52f-9ab8-4588-907e-362f458999e6"
      },
      "execution_count": null,
      "outputs": [
        {
          "output_type": "stream",
          "name": "stdout",
          "text": [
            "windowed_y_train: (4411, 50)\n",
            "windowed_y_valid: (508, 50)\n",
            "windowed_y_test: (508, 50)\n"
          ]
        }
      ]
    },
    {
      "cell_type": "markdown",
      "source": [
        "\n",
        "\n",
        "```\n",
        "y_train: (4460,)\n",
        "y_valid: (557,)\n",
        "y_test: (557,)\n",
        "```\n",
        "\n"
      ],
      "metadata": {
        "id": "YpPezNCA4nH0"
      }
    },
    {
      "cell_type": "markdown",
      "source": [
        "# ANN"
      ],
      "metadata": {
        "id": "6VEiEHTDMmn9"
      }
    },
    {
      "cell_type": "code",
      "source": [
        "# !pip install tensorflow-addons"
      ],
      "metadata": {
        "id": "3hy8PF6ldWr1"
      },
      "execution_count": null,
      "outputs": []
    },
    {
      "cell_type": "code",
      "source": [
        "def model_ann(x_train, x_valid, y_train, y_valid):\n",
        "  model = tf.keras.models.Sequential([\n",
        "    tf.keras.layers.Dense(200, activation='relu'),\n",
        "    tf.keras.layers.Dense(100, activation='relu'),\n",
        "    tf.keras.layers.Dense(50, activation='relu'),\n",
        "    tf.keras.layers.Dense(1),\n",
        "  ])\n",
        "\n",
        "  model.compile(optimizer = tf.keras.optimizers.RMSprop(learning_rate=1e-4, momentum=0.9),\n",
        "                loss = 'mae',\n",
        "                metrics = ['mae'])\n",
        "\n",
        "  model.fit(x_train, y_train, epochs = 100, validation_data = (x_valid, y_valid), verbose = 1)\n",
        "\n",
        "  model.summary()\n",
        "\n",
        "  return model"
      ],
      "metadata": {
        "id": "ZtJXhz4_Mg8i"
      },
      "execution_count": null,
      "outputs": []
    },
    {
      "cell_type": "code",
      "source": [
        "print('RMSprop')\n",
        "model_ann = model_ann(windowed_x_train, windowed_x_valid, windowed_y_train, windowed_y_valid)"
      ],
      "metadata": {
        "colab": {
          "base_uri": "https://localhost:8080/"
        },
        "id": "dRpav8Oi4_0H",
        "outputId": "2ee90e69-81f2-4cd7-c7c1-43d8ca81c8ab"
      },
      "execution_count": null,
      "outputs": [
        {
          "output_type": "stream",
          "name": "stdout",
          "text": [
            "RMSprop\n",
            "Epoch 1/100\n",
            "138/138 [==============================] - 3s 14ms/step - loss: 17.6865 - mae: 17.6865 - val_loss: 16.9517 - val_mae: 16.9517\n",
            "Epoch 2/100\n",
            "138/138 [==============================] - 2s 11ms/step - loss: 13.9453 - mae: 13.9453 - val_loss: 16.8344 - val_mae: 16.8344\n",
            "Epoch 3/100\n",
            "138/138 [==============================] - 2s 11ms/step - loss: 13.5582 - mae: 13.5582 - val_loss: 17.8259 - val_mae: 17.8259\n",
            "Epoch 4/100\n",
            "138/138 [==============================] - 2s 12ms/step - loss: 13.1510 - mae: 13.1510 - val_loss: 17.3168 - val_mae: 17.3168\n",
            "Epoch 5/100\n",
            "138/138 [==============================] - 2s 11ms/step - loss: 12.8139 - mae: 12.8139 - val_loss: 17.7258 - val_mae: 17.7258\n",
            "Epoch 6/100\n",
            "138/138 [==============================] - 2s 11ms/step - loss: 12.5783 - mae: 12.5783 - val_loss: 17.5176 - val_mae: 17.5176\n",
            "Epoch 7/100\n",
            "138/138 [==============================] - 2s 11ms/step - loss: 12.3117 - mae: 12.3117 - val_loss: 17.3065 - val_mae: 17.3065\n",
            "Epoch 8/100\n",
            "138/138 [==============================] - 2s 11ms/step - loss: 12.1101 - mae: 12.1101 - val_loss: 17.1386 - val_mae: 17.1386\n",
            "Epoch 9/100\n",
            "138/138 [==============================] - 2s 12ms/step - loss: 11.8353 - mae: 11.8353 - val_loss: 17.2942 - val_mae: 17.2942\n",
            "Epoch 10/100\n",
            "138/138 [==============================] - 2s 12ms/step - loss: 11.6004 - mae: 11.6004 - val_loss: 17.1589 - val_mae: 17.1589\n",
            "Epoch 11/100\n",
            "138/138 [==============================] - 2s 17ms/step - loss: 11.4489 - mae: 11.4489 - val_loss: 17.0900 - val_mae: 17.0900\n",
            "Epoch 12/100\n",
            "138/138 [==============================] - 2s 15ms/step - loss: 11.2354 - mae: 11.2354 - val_loss: 17.1347 - val_mae: 17.1347\n",
            "Epoch 13/100\n",
            "138/138 [==============================] - 2s 12ms/step - loss: 11.1136 - mae: 11.1136 - val_loss: 17.3863 - val_mae: 17.3863\n",
            "Epoch 14/100\n",
            "138/138 [==============================] - 2s 12ms/step - loss: 10.8764 - mae: 10.8764 - val_loss: 17.3445 - val_mae: 17.3445\n",
            "Epoch 15/100\n",
            "138/138 [==============================] - 2s 11ms/step - loss: 10.7219 - mae: 10.7219 - val_loss: 17.3271 - val_mae: 17.3271\n",
            "Epoch 16/100\n",
            "138/138 [==============================] - 2s 12ms/step - loss: 10.5820 - mae: 10.5820 - val_loss: 16.8659 - val_mae: 16.8659\n",
            "Epoch 17/100\n",
            "138/138 [==============================] - 2s 12ms/step - loss: 10.3811 - mae: 10.3811 - val_loss: 16.8377 - val_mae: 16.8377\n",
            "Epoch 18/100\n",
            "138/138 [==============================] - 2s 12ms/step - loss: 10.2971 - mae: 10.2971 - val_loss: 17.0635 - val_mae: 17.0635\n",
            "Epoch 19/100\n",
            "138/138 [==============================] - 2s 11ms/step - loss: 10.1529 - mae: 10.1529 - val_loss: 16.5540 - val_mae: 16.5540\n",
            "Epoch 20/100\n",
            "138/138 [==============================] - 2s 11ms/step - loss: 9.9696 - mae: 9.9696 - val_loss: 16.8400 - val_mae: 16.8400\n",
            "Epoch 21/100\n",
            "138/138 [==============================] - 2s 11ms/step - loss: 9.8956 - mae: 9.8956 - val_loss: 17.1052 - val_mae: 17.1052\n",
            "Epoch 22/100\n",
            "138/138 [==============================] - 2s 12ms/step - loss: 9.7317 - mae: 9.7317 - val_loss: 18.8593 - val_mae: 18.8593\n",
            "Epoch 23/100\n",
            "138/138 [==============================] - 2s 12ms/step - loss: 9.6575 - mae: 9.6575 - val_loss: 17.1745 - val_mae: 17.1745\n",
            "Epoch 24/100\n",
            "138/138 [==============================] - 2s 11ms/step - loss: 9.6368 - mae: 9.6368 - val_loss: 17.3326 - val_mae: 17.3326\n",
            "Epoch 25/100\n",
            "138/138 [==============================] - 2s 11ms/step - loss: 9.4563 - mae: 9.4563 - val_loss: 17.2675 - val_mae: 17.2675\n",
            "Epoch 26/100\n",
            "138/138 [==============================] - 2s 11ms/step - loss: 9.3820 - mae: 9.3820 - val_loss: 17.7180 - val_mae: 17.7180\n",
            "Epoch 27/100\n",
            "138/138 [==============================] - 2s 12ms/step - loss: 9.3247 - mae: 9.3247 - val_loss: 17.9376 - val_mae: 17.9376\n",
            "Epoch 28/100\n",
            "138/138 [==============================] - 2s 12ms/step - loss: 9.1669 - mae: 9.1669 - val_loss: 17.6344 - val_mae: 17.6344\n",
            "Epoch 29/100\n",
            "138/138 [==============================] - 2s 11ms/step - loss: 9.1189 - mae: 9.1189 - val_loss: 17.7934 - val_mae: 17.7934\n",
            "Epoch 30/100\n",
            "138/138 [==============================] - 2s 12ms/step - loss: 9.0302 - mae: 9.0302 - val_loss: 18.4426 - val_mae: 18.4426\n",
            "Epoch 31/100\n",
            "138/138 [==============================] - 2s 12ms/step - loss: 8.9046 - mae: 8.9046 - val_loss: 17.5575 - val_mae: 17.5575\n",
            "Epoch 32/100\n",
            "138/138 [==============================] - 2s 12ms/step - loss: 8.8824 - mae: 8.8824 - val_loss: 17.6211 - val_mae: 17.6211\n",
            "Epoch 33/100\n",
            "138/138 [==============================] - 2s 12ms/step - loss: 8.7854 - mae: 8.7854 - val_loss: 17.4854 - val_mae: 17.4854\n",
            "Epoch 34/100\n",
            "138/138 [==============================] - 2s 12ms/step - loss: 8.7804 - mae: 8.7804 - val_loss: 18.0546 - val_mae: 18.0546\n",
            "Epoch 35/100\n",
            "138/138 [==============================] - 2s 11ms/step - loss: 8.6619 - mae: 8.6619 - val_loss: 17.6591 - val_mae: 17.6591\n",
            "Epoch 36/100\n",
            "138/138 [==============================] - 2s 11ms/step - loss: 8.6186 - mae: 8.6186 - val_loss: 18.4995 - val_mae: 18.4995\n",
            "Epoch 37/100\n",
            "138/138 [==============================] - 2s 11ms/step - loss: 8.6072 - mae: 8.6072 - val_loss: 18.2686 - val_mae: 18.2686\n",
            "Epoch 38/100\n",
            "138/138 [==============================] - 2s 11ms/step - loss: 8.4656 - mae: 8.4656 - val_loss: 18.4558 - val_mae: 18.4558\n",
            "Epoch 39/100\n",
            "138/138 [==============================] - 2s 11ms/step - loss: 8.3862 - mae: 8.3862 - val_loss: 18.1313 - val_mae: 18.1313\n",
            "Epoch 40/100\n",
            "138/138 [==============================] - 2s 11ms/step - loss: 8.3793 - mae: 8.3793 - val_loss: 18.3268 - val_mae: 18.3268\n",
            "Epoch 41/100\n",
            "138/138 [==============================] - 2s 11ms/step - loss: 8.2757 - mae: 8.2757 - val_loss: 18.1974 - val_mae: 18.1974\n",
            "Epoch 42/100\n",
            "138/138 [==============================] - 2s 11ms/step - loss: 8.2745 - mae: 8.2745 - val_loss: 18.8318 - val_mae: 18.8318\n",
            "Epoch 43/100\n",
            "138/138 [==============================] - 2s 12ms/step - loss: 8.2576 - mae: 8.2576 - val_loss: 18.7650 - val_mae: 18.7650\n",
            "Epoch 44/100\n",
            "138/138 [==============================] - 2s 11ms/step - loss: 8.2337 - mae: 8.2337 - val_loss: 18.8444 - val_mae: 18.8444\n",
            "Epoch 45/100\n",
            "138/138 [==============================] - 2s 11ms/step - loss: 8.1311 - mae: 8.1311 - val_loss: 18.7023 - val_mae: 18.7023\n",
            "Epoch 46/100\n",
            "138/138 [==============================] - 2s 12ms/step - loss: 7.9879 - mae: 7.9879 - val_loss: 18.3362 - val_mae: 18.3362\n",
            "Epoch 47/100\n",
            "138/138 [==============================] - 2s 11ms/step - loss: 8.0540 - mae: 8.0540 - val_loss: 18.5586 - val_mae: 18.5586\n",
            "Epoch 48/100\n",
            "138/138 [==============================] - 2s 12ms/step - loss: 8.0388 - mae: 8.0388 - val_loss: 18.7378 - val_mae: 18.7378\n",
            "Epoch 49/100\n",
            "138/138 [==============================] - 2s 11ms/step - loss: 7.9097 - mae: 7.9097 - val_loss: 18.7328 - val_mae: 18.7328\n",
            "Epoch 50/100\n",
            "138/138 [==============================] - 2s 12ms/step - loss: 7.8441 - mae: 7.8441 - val_loss: 18.8958 - val_mae: 18.8958\n",
            "Epoch 51/100\n",
            "138/138 [==============================] - 2s 12ms/step - loss: 7.8383 - mae: 7.8383 - val_loss: 19.7171 - val_mae: 19.7171\n",
            "Epoch 52/100\n",
            "138/138 [==============================] - 2s 11ms/step - loss: 7.8368 - mae: 7.8368 - val_loss: 18.8816 - val_mae: 18.8816\n",
            "Epoch 53/100\n",
            "138/138 [==============================] - 2s 12ms/step - loss: 7.6651 - mae: 7.6651 - val_loss: 19.1687 - val_mae: 19.1687\n",
            "Epoch 54/100\n",
            "138/138 [==============================] - 2s 12ms/step - loss: 7.6650 - mae: 7.6650 - val_loss: 18.9900 - val_mae: 18.9900\n",
            "Epoch 55/100\n",
            "138/138 [==============================] - 2s 12ms/step - loss: 7.6328 - mae: 7.6328 - val_loss: 19.0939 - val_mae: 19.0939\n",
            "Epoch 56/100\n",
            "138/138 [==============================] - 2s 12ms/step - loss: 7.6073 - mae: 7.6073 - val_loss: 19.1039 - val_mae: 19.1039\n",
            "Epoch 57/100\n",
            "138/138 [==============================] - 2s 11ms/step - loss: 7.5737 - mae: 7.5737 - val_loss: 19.1648 - val_mae: 19.1648\n",
            "Epoch 58/100\n",
            "138/138 [==============================] - 2s 12ms/step - loss: 7.5524 - mae: 7.5524 - val_loss: 19.2303 - val_mae: 19.2303\n",
            "Epoch 59/100\n",
            "138/138 [==============================] - 2s 12ms/step - loss: 7.4829 - mae: 7.4829 - val_loss: 19.1723 - val_mae: 19.1723\n",
            "Epoch 60/100\n",
            "138/138 [==============================] - 2s 12ms/step - loss: 7.4113 - mae: 7.4113 - val_loss: 18.9901 - val_mae: 18.9901\n",
            "Epoch 61/100\n",
            "138/138 [==============================] - 2s 12ms/step - loss: 7.4905 - mae: 7.4905 - val_loss: 19.0496 - val_mae: 19.0496\n",
            "Epoch 62/100\n",
            "138/138 [==============================] - 2s 12ms/step - loss: 7.3394 - mae: 7.3394 - val_loss: 19.1477 - val_mae: 19.1477\n",
            "Epoch 63/100\n",
            "138/138 [==============================] - 2s 11ms/step - loss: 7.2816 - mae: 7.2816 - val_loss: 19.7069 - val_mae: 19.7069\n",
            "Epoch 64/100\n",
            "138/138 [==============================] - 2s 12ms/step - loss: 7.2887 - mae: 7.2887 - val_loss: 19.2724 - val_mae: 19.2724\n",
            "Epoch 65/100\n",
            "138/138 [==============================] - 2s 12ms/step - loss: 7.2879 - mae: 7.2879 - val_loss: 19.6090 - val_mae: 19.6090\n",
            "Epoch 66/100\n",
            "138/138 [==============================] - 2s 12ms/step - loss: 7.1664 - mae: 7.1664 - val_loss: 19.1282 - val_mae: 19.1282\n",
            "Epoch 67/100\n",
            "138/138 [==============================] - 2s 11ms/step - loss: 7.1404 - mae: 7.1404 - val_loss: 19.6306 - val_mae: 19.6306\n",
            "Epoch 68/100\n",
            "138/138 [==============================] - 2s 12ms/step - loss: 7.0861 - mae: 7.0861 - val_loss: 19.5982 - val_mae: 19.5982\n",
            "Epoch 69/100\n",
            "138/138 [==============================] - 2s 12ms/step - loss: 7.1197 - mae: 7.1197 - val_loss: 19.4903 - val_mae: 19.4903\n",
            "Epoch 70/100\n",
            "138/138 [==============================] - 2s 12ms/step - loss: 7.0082 - mae: 7.0082 - val_loss: 19.3888 - val_mae: 19.3888\n",
            "Epoch 71/100\n",
            "138/138 [==============================] - 2s 12ms/step - loss: 7.0432 - mae: 7.0432 - val_loss: 19.7942 - val_mae: 19.7942\n",
            "Epoch 72/100\n",
            "138/138 [==============================] - 2s 12ms/step - loss: 7.0794 - mae: 7.0794 - val_loss: 19.6326 - val_mae: 19.6326\n",
            "Epoch 73/100\n",
            "138/138 [==============================] - 2s 11ms/step - loss: 6.9718 - mae: 6.9718 - val_loss: 19.6035 - val_mae: 19.6035\n",
            "Epoch 74/100\n",
            "138/138 [==============================] - 2s 12ms/step - loss: 7.0063 - mae: 7.0063 - val_loss: 19.5854 - val_mae: 19.5854\n",
            "Epoch 75/100\n",
            "138/138 [==============================] - 2s 11ms/step - loss: 6.9336 - mae: 6.9336 - val_loss: 19.9238 - val_mae: 19.9238\n",
            "Epoch 76/100\n",
            "138/138 [==============================] - 2s 12ms/step - loss: 6.9358 - mae: 6.9358 - val_loss: 19.6922 - val_mae: 19.6922\n",
            "Epoch 77/100\n",
            "138/138 [==============================] - 2s 12ms/step - loss: 6.8859 - mae: 6.8859 - val_loss: 19.6999 - val_mae: 19.6999\n",
            "Epoch 78/100\n",
            "138/138 [==============================] - 2s 11ms/step - loss: 6.8698 - mae: 6.8698 - val_loss: 19.5759 - val_mae: 19.5759\n",
            "Epoch 79/100\n",
            "138/138 [==============================] - 2s 12ms/step - loss: 6.8145 - mae: 6.8145 - val_loss: 19.6848 - val_mae: 19.6848\n",
            "Epoch 80/100\n",
            "138/138 [==============================] - 2s 12ms/step - loss: 6.8338 - mae: 6.8338 - val_loss: 19.5919 - val_mae: 19.5919\n",
            "Epoch 81/100\n",
            "138/138 [==============================] - 2s 12ms/step - loss: 6.7024 - mae: 6.7024 - val_loss: 19.5401 - val_mae: 19.5401\n",
            "Epoch 82/100\n",
            "138/138 [==============================] - 2s 12ms/step - loss: 6.6985 - mae: 6.6985 - val_loss: 19.8480 - val_mae: 19.8480\n",
            "Epoch 83/100\n",
            "138/138 [==============================] - 2s 11ms/step - loss: 6.6871 - mae: 6.6871 - val_loss: 19.6338 - val_mae: 19.6338\n",
            "Epoch 84/100\n",
            "138/138 [==============================] - 2s 12ms/step - loss: 6.6127 - mae: 6.6127 - val_loss: 19.8289 - val_mae: 19.8289\n",
            "Epoch 85/100\n",
            "138/138 [==============================] - 2s 12ms/step - loss: 6.5738 - mae: 6.5738 - val_loss: 19.6385 - val_mae: 19.6385\n",
            "Epoch 86/100\n",
            "138/138 [==============================] - 2s 12ms/step - loss: 6.6201 - mae: 6.6201 - val_loss: 19.8778 - val_mae: 19.8778\n",
            "Epoch 87/100\n",
            "138/138 [==============================] - 2s 12ms/step - loss: 6.5725 - mae: 6.5725 - val_loss: 19.9090 - val_mae: 19.9090\n",
            "Epoch 88/100\n",
            "138/138 [==============================] - 2s 12ms/step - loss: 6.5608 - mae: 6.5608 - val_loss: 19.8754 - val_mae: 19.8754\n",
            "Epoch 89/100\n",
            "138/138 [==============================] - 2s 12ms/step - loss: 6.4674 - mae: 6.4674 - val_loss: 19.9631 - val_mae: 19.9631\n",
            "Epoch 90/100\n",
            "138/138 [==============================] - 2s 12ms/step - loss: 6.4562 - mae: 6.4562 - val_loss: 20.2016 - val_mae: 20.2016\n",
            "Epoch 91/100\n",
            "138/138 [==============================] - 2s 12ms/step - loss: 6.3993 - mae: 6.3993 - val_loss: 20.0535 - val_mae: 20.0535\n",
            "Epoch 92/100\n",
            "138/138 [==============================] - 2s 12ms/step - loss: 6.3759 - mae: 6.3759 - val_loss: 19.7362 - val_mae: 19.7362\n",
            "Epoch 93/100\n",
            "138/138 [==============================] - 2s 12ms/step - loss: 6.4239 - mae: 6.4239 - val_loss: 20.1454 - val_mae: 20.1454\n",
            "Epoch 94/100\n",
            "138/138 [==============================] - 2s 12ms/step - loss: 6.4207 - mae: 6.4207 - val_loss: 20.5398 - val_mae: 20.5398\n",
            "Epoch 95/100\n",
            "138/138 [==============================] - 2s 12ms/step - loss: 6.4032 - mae: 6.4032 - val_loss: 19.9280 - val_mae: 19.9280\n",
            "Epoch 96/100\n",
            "138/138 [==============================] - 2s 12ms/step - loss: 6.2488 - mae: 6.2488 - val_loss: 20.0984 - val_mae: 20.0984\n",
            "Epoch 97/100\n",
            "138/138 [==============================] - 2s 12ms/step - loss: 6.4131 - mae: 6.4131 - val_loss: 20.2892 - val_mae: 20.2892\n",
            "Epoch 98/100\n",
            "138/138 [==============================] - 2s 12ms/step - loss: 6.2450 - mae: 6.2450 - val_loss: 20.0186 - val_mae: 20.0186\n",
            "Epoch 99/100\n",
            "138/138 [==============================] - 2s 12ms/step - loss: 6.1660 - mae: 6.1660 - val_loss: 20.1432 - val_mae: 20.1432\n",
            "Epoch 100/100\n",
            "138/138 [==============================] - 2s 12ms/step - loss: 6.2063 - mae: 6.2063 - val_loss: 20.2461 - val_mae: 20.2461\n",
            "Model: \"sequential_5\"\n",
            "_________________________________________________________________\n",
            " Layer (type)                Output Shape              Param #   \n",
            "=================================================================\n",
            " dense_15 (Dense)            (None, 50, 200)           1400      \n",
            "                                                                 \n",
            " dense_16 (Dense)            (None, 50, 100)           20100     \n",
            "                                                                 \n",
            " dense_17 (Dense)            (None, 50, 50)            5050      \n",
            "                                                                 \n",
            " dense_18 (Dense)            (None, 50, 1)             51        \n",
            "                                                                 \n",
            "=================================================================\n",
            "Total params: 26,601\n",
            "Trainable params: 26,601\n",
            "Non-trainable params: 0\n",
            "_________________________________________________________________\n"
          ]
        }
      ]
    },
    {
      "cell_type": "code",
      "source": [
        "check_y_pred_ann = model_ann.predict(windowed_x_train)\n",
        "check_y_pred_ann = check_y_pred_ann.reshape(4411, 50)"
      ],
      "metadata": {
        "id": "fmWqxjAFQY19"
      },
      "execution_count": null,
      "outputs": []
    },
    {
      "cell_type": "code",
      "source": [
        "from sklearn.metrics import r2_score\n",
        "print(r2_score(windowed_y_train, check_y_pred_ann))"
      ],
      "metadata": {
        "colab": {
          "base_uri": "https://localhost:8080/"
        },
        "id": "Lc9viwxdyLEc",
        "outputId": "f870d63c-39ee-4232-db21-3eaf13bfe454"
      },
      "execution_count": null,
      "outputs": [
        {
          "output_type": "stream",
          "name": "stdout",
          "text": [
            "0.6873694437995141\n"
          ]
        }
      ]
    },
    {
      "cell_type": "markdown",
      "source": [
        "# RNN (use LSTM)"
      ],
      "metadata": {
        "id": "TLJ27hRJRaW8"
      }
    },
    {
      "cell_type": "code",
      "source": [
        "x_train_rnn = x_train.reshape(x_train.shape[0], 1, x_train.shape[1])\n",
        "x_valid_rnn = x_valid.reshape(x_valid.shape[0], 1, x_valid.shape[1])\n",
        "x_test_rnn = x_test.reshape(x_test.shape[0], 1, x_test.shape[1])"
      ],
      "metadata": {
        "id": "81LJ0HYVXZmm"
      },
      "execution_count": null,
      "outputs": []
    },
    {
      "cell_type": "code",
      "source": [],
      "metadata": {
        "id": "Q3xu_aZGd-d-"
      },
      "execution_count": null,
      "outputs": []
    },
    {
      "cell_type": "code",
      "source": [
        "windowed_y_train_rnn = windowed_y_train[:, 49]\n",
        "windowed_y_valid_rnn = windowed_y_valid[:, 49]\n",
        "windowed_y_test_rnn = windowed_y_test[:, 49]"
      ],
      "metadata": {
        "id": "wJdAv_YwWQzM"
      },
      "execution_count": null,
      "outputs": []
    },
    {
      "cell_type": "code",
      "source": [
        "def model_rnn(x_train, x_valid, y_train, y_valid):\n",
        "  model = tf.keras.models.Sequential([\n",
        "    tf.keras.layers.Bidirectional(tf.keras.layers.LSTM(256, return_sequences=True)),\n",
        "    tf.keras.layers.Bidirectional(tf.keras.layers.LSTM(128, return_sequences=True)),\n",
        "    tf.keras.layers.Bidirectional(tf.keras.layers.LSTM(64, return_sequences=True)),\n",
        "    tf.keras.layers.Dense(100, activation='relu'),\n",
        "    tf.keras.layers.Dense(50, activation='relu'),\n",
        "    tf.keras.layers.Dropout(0.4),\n",
        "    tf.keras.layers.Dense(1)\n",
        "  ])\n",
        "\n",
        "  model.compile(optimizer = tf.keras.optimizers.RMSprop(learning_rate=1e-5, momentum=0.9),\n",
        "                loss = 'mae',\n",
        "                metrics = ['mae'])\n",
        "  model.fit(x_train, y_train, epochs = 20, validation_data = (x_valid, y_valid), verbose = 1)\n",
        "  model.summary()\n",
        "  return model"
      ],
      "metadata": {
        "id": "4Wz75W7dR8eK"
      },
      "execution_count": null,
      "outputs": []
    },
    {
      "cell_type": "code",
      "source": [
        "model_rnn_1 = model_rnn(windowed_x_train, windowed_x_valid, windowed_y_train_rnn, windowed_y_valid_rnn)"
      ],
      "metadata": {
        "colab": {
          "base_uri": "https://localhost:8080/"
        },
        "id": "KY4448Nce4xj",
        "outputId": "8e4a9b11-383b-484f-e838-153373a2f57e"
      },
      "execution_count": null,
      "outputs": [
        {
          "output_type": "stream",
          "name": "stdout",
          "text": [
            "Epoch 1/20\n",
            "138/138 [==============================] - 108s 691ms/step - loss: 25.1480 - mae: 25.1480 - val_loss: 21.1853 - val_mae: 21.1853\n",
            "Epoch 2/20\n",
            "138/138 [==============================] - 93s 674ms/step - loss: 16.2440 - mae: 16.2440 - val_loss: 15.5344 - val_mae: 15.5344\n",
            "Epoch 3/20\n",
            "138/138 [==============================] - 91s 661ms/step - loss: 15.6581 - mae: 15.6581 - val_loss: 15.6047 - val_mae: 15.6047\n",
            "Epoch 4/20\n",
            "138/138 [==============================] - 91s 663ms/step - loss: 15.4559 - mae: 15.4559 - val_loss: 15.5899 - val_mae: 15.5899\n",
            "Epoch 5/20\n",
            "138/138 [==============================] - 92s 667ms/step - loss: 15.3199 - mae: 15.3200 - val_loss: 15.4794 - val_mae: 15.4794\n",
            "Epoch 6/20\n",
            "138/138 [==============================] - 92s 670ms/step - loss: 15.2178 - mae: 15.2178 - val_loss: 15.2883 - val_mae: 15.2883\n",
            "Epoch 7/20\n",
            "138/138 [==============================] - 93s 671ms/step - loss: 15.1548 - mae: 15.1548 - val_loss: 15.4024 - val_mae: 15.4024\n",
            "Epoch 8/20\n",
            "138/138 [==============================] - 92s 669ms/step - loss: 15.1123 - mae: 15.1123 - val_loss: 15.4484 - val_mae: 15.4484\n",
            "Epoch 9/20\n",
            "138/138 [==============================] - 95s 688ms/step - loss: 15.0681 - mae: 15.0681 - val_loss: 15.0562 - val_mae: 15.0562\n",
            "Epoch 10/20\n",
            "138/138 [==============================] - 93s 672ms/step - loss: 15.0449 - mae: 15.0449 - val_loss: 15.3534 - val_mae: 15.3534\n",
            "Epoch 11/20\n",
            "138/138 [==============================] - 92s 668ms/step - loss: 15.0255 - mae: 15.0255 - val_loss: 15.2131 - val_mae: 15.2131\n",
            "Epoch 12/20\n",
            "138/138 [==============================] - 92s 664ms/step - loss: 15.0185 - mae: 15.0185 - val_loss: 15.3842 - val_mae: 15.3842\n",
            "Epoch 13/20\n",
            "138/138 [==============================] - 90s 655ms/step - loss: 15.0096 - mae: 15.0096 - val_loss: 15.1911 - val_mae: 15.1911\n",
            "Epoch 14/20\n",
            "138/138 [==============================] - 90s 654ms/step - loss: 15.0050 - mae: 15.0050 - val_loss: 15.3368 - val_mae: 15.3368\n",
            "Epoch 15/20\n",
            "138/138 [==============================] - 91s 656ms/step - loss: 14.9977 - mae: 14.9977 - val_loss: 15.4988 - val_mae: 15.4988\n",
            "Epoch 16/20\n",
            "138/138 [==============================] - 91s 662ms/step - loss: 14.9961 - mae: 14.9961 - val_loss: 15.2467 - val_mae: 15.2467\n",
            "Epoch 17/20\n",
            "138/138 [==============================] - 115s 837ms/step - loss: 14.9825 - mae: 14.9825 - val_loss: 15.4052 - val_mae: 15.4052\n",
            "Epoch 18/20\n",
            "138/138 [==============================] - 106s 770ms/step - loss: 14.9880 - mae: 14.9880 - val_loss: 15.5612 - val_mae: 15.5612\n",
            "Epoch 19/20\n",
            "138/138 [==============================] - 92s 666ms/step - loss: 14.9966 - mae: 14.9966 - val_loss: 15.2533 - val_mae: 15.2533\n",
            "Epoch 20/20\n",
            "138/138 [==============================] - 91s 658ms/step - loss: 14.9859 - mae: 14.9859 - val_loss: 15.4322 - val_mae: 15.4322\n",
            "Model: \"sequential_1\"\n",
            "_________________________________________________________________\n",
            " Layer (type)                Output Shape              Param #   \n",
            "=================================================================\n",
            " bidirectional_3 (Bidirectio  (None, 50, 512)          538624    \n",
            " nal)                                                            \n",
            "                                                                 \n",
            " bidirectional_4 (Bidirectio  (None, 50, 256)          656384    \n",
            " nal)                                                            \n",
            "                                                                 \n",
            " bidirectional_5 (Bidirectio  (None, 50, 128)          164352    \n",
            " nal)                                                            \n",
            "                                                                 \n",
            " dense_3 (Dense)             (None, 50, 100)           12900     \n",
            "                                                                 \n",
            " dense_4 (Dense)             (None, 50, 50)            5050      \n",
            "                                                                 \n",
            " dropout (Dropout)           (None, 50, 50)            0         \n",
            "                                                                 \n",
            " dense_5 (Dense)             (None, 50, 1)             51        \n",
            "                                                                 \n",
            "=================================================================\n",
            "Total params: 1,377,361\n",
            "Trainable params: 1,377,361\n",
            "Non-trainable params: 0\n",
            "_________________________________________________________________\n"
          ]
        }
      ]
    },
    {
      "cell_type": "code",
      "source": [
        "print('RMSprop')\n",
        "model_rnn = model_rnn(windowed_x_train, windowed_x_valid, windowed_y_train, windowed_y_valid)"
      ],
      "metadata": {
        "colab": {
          "base_uri": "https://localhost:8080/"
        },
        "id": "W_uIW7kWTKt5",
        "outputId": "96dd08a8-041e-4db4-dd78-fbfa2aa0466e"
      },
      "execution_count": null,
      "outputs": [
        {
          "output_type": "stream",
          "name": "stdout",
          "text": [
            "RMSprop\n",
            "Epoch 1/20\n",
            "138/138 [==============================] - 105s 676ms/step - loss: 21.7637 - mae: 21.7637 - val_loss: 15.5001 - val_mae: 15.5001\n",
            "Epoch 2/20\n",
            "138/138 [==============================] - 89s 644ms/step - loss: 15.0846 - mae: 15.0846 - val_loss: 15.1974 - val_mae: 15.1974\n",
            "Epoch 3/20\n",
            "138/138 [==============================] - 89s 647ms/step - loss: 14.7522 - mae: 14.7522 - val_loss: 14.9975 - val_mae: 14.9975\n",
            "Epoch 4/20\n",
            "138/138 [==============================] - 89s 647ms/step - loss: 13.0970 - mae: 13.0970 - val_loss: 14.4029 - val_mae: 14.4029\n",
            "Epoch 5/20\n",
            "138/138 [==============================] - 89s 645ms/step - loss: 10.0079 - mae: 10.0079 - val_loss: 15.1207 - val_mae: 15.1207\n",
            "Epoch 6/20\n",
            "138/138 [==============================] - 90s 651ms/step - loss: 7.7086 - mae: 7.7086 - val_loss: 15.7947 - val_mae: 15.7947\n",
            "Epoch 7/20\n",
            "138/138 [==============================] - 89s 648ms/step - loss: 6.8291 - mae: 6.8291 - val_loss: 15.5495 - val_mae: 15.5495\n",
            "Epoch 8/20\n",
            "138/138 [==============================] - 90s 650ms/step - loss: 6.3599 - mae: 6.3599 - val_loss: 15.2516 - val_mae: 15.2516\n",
            "Epoch 9/20\n",
            "138/138 [==============================] - 89s 646ms/step - loss: 6.0396 - mae: 6.0396 - val_loss: 15.7838 - val_mae: 15.7838\n",
            "Epoch 10/20\n",
            "138/138 [==============================] - 89s 643ms/step - loss: 5.8255 - mae: 5.8255 - val_loss: 16.0500 - val_mae: 16.0500\n",
            "Epoch 11/20\n",
            "138/138 [==============================] - 90s 651ms/step - loss: 5.6490 - mae: 5.6490 - val_loss: 15.5057 - val_mae: 15.5057\n",
            "Epoch 12/20\n",
            "138/138 [==============================] - 90s 651ms/step - loss: 5.5189 - mae: 5.5189 - val_loss: 15.4996 - val_mae: 15.4996\n",
            "Epoch 13/20\n",
            "138/138 [==============================] - 90s 650ms/step - loss: 5.3950 - mae: 5.3950 - val_loss: 15.3841 - val_mae: 15.3841\n",
            "Epoch 14/20\n",
            "138/138 [==============================] - 90s 649ms/step - loss: 5.3085 - mae: 5.3085 - val_loss: 15.3619 - val_mae: 15.3619\n",
            "Epoch 15/20\n",
            "138/138 [==============================] - 90s 652ms/step - loss: 5.2455 - mae: 5.2455 - val_loss: 15.5345 - val_mae: 15.5345\n",
            "Epoch 16/20\n",
            "138/138 [==============================] - 89s 647ms/step - loss: 5.1689 - mae: 5.1689 - val_loss: 15.2907 - val_mae: 15.2907\n",
            "Epoch 17/20\n",
            "138/138 [==============================] - 90s 650ms/step - loss: 5.1095 - mae: 5.1095 - val_loss: 15.3587 - val_mae: 15.3587\n",
            "Epoch 18/20\n",
            "138/138 [==============================] - 90s 655ms/step - loss: 5.0659 - mae: 5.0659 - val_loss: 15.2367 - val_mae: 15.2367\n",
            "Epoch 19/20\n",
            "138/138 [==============================] - 91s 662ms/step - loss: 5.0258 - mae: 5.0258 - val_loss: 15.2054 - val_mae: 15.2054\n",
            "Epoch 20/20\n",
            "138/138 [==============================] - 91s 659ms/step - loss: 4.9928 - mae: 4.9928 - val_loss: 15.1540 - val_mae: 15.1540\n",
            "Model: \"sequential_2\"\n",
            "_________________________________________________________________\n",
            " Layer (type)                Output Shape              Param #   \n",
            "=================================================================\n",
            " bidirectional_6 (Bidirectio  (None, 50, 512)          538624    \n",
            " nal)                                                            \n",
            "                                                                 \n",
            " bidirectional_7 (Bidirectio  (None, 50, 256)          656384    \n",
            " nal)                                                            \n",
            "                                                                 \n",
            " bidirectional_8 (Bidirectio  (None, 50, 128)          164352    \n",
            " nal)                                                            \n",
            "                                                                 \n",
            " dense_6 (Dense)             (None, 50, 100)           12900     \n",
            "                                                                 \n",
            " dense_7 (Dense)             (None, 50, 50)            5050      \n",
            "                                                                 \n",
            " dropout_1 (Dropout)         (None, 50, 50)            0         \n",
            "                                                                 \n",
            " dense_8 (Dense)             (None, 50, 1)             51        \n",
            "                                                                 \n",
            "=================================================================\n",
            "Total params: 1,377,361\n",
            "Trainable params: 1,377,361\n",
            "Non-trainable params: 0\n",
            "_________________________________________________________________\n"
          ]
        }
      ]
    },
    {
      "cell_type": "code",
      "source": [
        "check_y_pred = model_rnn.predict(windowed_x_train)\n",
        "check_y_pred_1 = model_rnn_1.predict(windowed_x_valid)"
      ],
      "metadata": {
        "id": "Z1V8Hv8JbVan"
      },
      "execution_count": null,
      "outputs": []
    },
    {
      "cell_type": "code",
      "source": [
        "check_y_pred.shape"
      ],
      "metadata": {
        "colab": {
          "base_uri": "https://localhost:8080/"
        },
        "id": "6b9G5YIjvr3E",
        "outputId": "cc59d8d9-8134-4341-f97d-9ee4b0393309"
      },
      "execution_count": null,
      "outputs": [
        {
          "output_type": "execute_result",
          "data": {
            "text/plain": [
              "(4411, 50, 1)"
            ]
          },
          "metadata": {},
          "execution_count": 125
        }
      ]
    },
    {
      "cell_type": "code",
      "source": [
        "windowed_y_valid_rnn"
      ],
      "metadata": {
        "id": "2N_BBr8kwDLf"
      },
      "execution_count": null,
      "outputs": []
    },
    {
      "cell_type": "code",
      "source": [
        "check_y_pred = check_y_pred.reshape(4411, 50)\n",
        "#check_y_pred_1 = check_y_pred_1.reshape(508, 50)"
      ],
      "metadata": {
        "id": "FiGTwnFEbyHA"
      },
      "execution_count": null,
      "outputs": []
    },
    {
      "cell_type": "code",
      "source": [
        "from sklearn.metrics import r2_score\n",
        "print(r2_score(windowed_y_train, check_y_pred))\n",
        "#print(r2_score(windowed_y_valid_rnn, check_y_pred_1))"
      ],
      "metadata": {
        "colab": {
          "base_uri": "https://localhost:8080/"
        },
        "id": "wYwy1Pyqa_CV",
        "outputId": "d305ce2f-a27e-41af-c20e-daa849456baf"
      },
      "execution_count": null,
      "outputs": [
        {
          "output_type": "stream",
          "name": "stdout",
          "text": [
            "0.9687859959448734\n"
          ]
        }
      ]
    },
    {
      "cell_type": "code",
      "source": [
        "model_rnn.evaluate(x_test_rnn, y_test)"
      ],
      "metadata": {
        "colab": {
          "base_uri": "https://localhost:8080/"
        },
        "id": "tBAaCvcnYIyo",
        "outputId": "9a8aa303-6636-45fa-9055-67b3e020a053"
      },
      "execution_count": null,
      "outputs": [
        {
          "output_type": "stream",
          "name": "stdout",
          "text": [
            "18/18 [==============================] - 0s 11ms/step - loss: 20.0816 - mae: 20.0816\n"
          ]
        },
        {
          "output_type": "execute_result",
          "data": {
            "text/plain": [
              "[20.08162498474121, 20.08162498474121]"
            ]
          },
          "metadata": {},
          "execution_count": 29
        }
      ]
    },
    {
      "cell_type": "code",
      "source": [
        "y_test.shape"
      ],
      "metadata": {
        "colab": {
          "base_uri": "https://localhost:8080/"
        },
        "id": "Lbc4GFKeec7f",
        "outputId": "0760a810-83cc-4bb1-bcf7-ffde5f42d641"
      },
      "execution_count": null,
      "outputs": [
        {
          "output_type": "execute_result",
          "data": {
            "text/plain": [
              "(557,)"
            ]
          },
          "metadata": {},
          "execution_count": 30
        }
      ]
    },
    {
      "cell_type": "code",
      "source": [
        "y_pred_valid = model_rnn.predict(x_valid_rnn)\n",
        "y_pred_test = model_rnn.predict(x_test_rnn)"
      ],
      "metadata": {
        "id": "lbZPYNLVeqHW"
      },
      "execution_count": null,
      "outputs": []
    },
    {
      "cell_type": "code",
      "source": [
        "y_pred_valid = y_pred_valid.reshape(557,)\n",
        "y_pred_test = y_pred_test.reshape(557,)"
      ],
      "metadata": {
        "id": "XNmE7VFCe0Yu"
      },
      "execution_count": null,
      "outputs": []
    },
    {
      "cell_type": "code",
      "source": [
        "metric = tfa.metrics.r_square.RSquare()\n",
        "metric.update_state(y_valid, y_pred_valid)\n",
        "result = metric.result()\n",
        "result.numpy()"
      ],
      "metadata": {
        "colab": {
          "base_uri": "https://localhost:8080/"
        },
        "id": "CSnX_V_Yftlk",
        "outputId": "285b2955-2e10-4b07-fa21-39855e7f0406"
      },
      "execution_count": null,
      "outputs": [
        {
          "output_type": "execute_result",
          "data": {
            "text/plain": [
              "-0.2924316"
            ]
          },
          "metadata": {},
          "execution_count": 34
        }
      ]
    },
    {
      "cell_type": "code",
      "source": [
        "metric = tfa.metrics.r_square.RSquare()\n",
        "metric.update_state(y_test, y_pred_test)\n",
        "result = metric.result()\n",
        "result.numpy()"
      ],
      "metadata": {
        "colab": {
          "base_uri": "https://localhost:8080/"
        },
        "id": "oV4lCm0HfEo6",
        "outputId": "87743cc1-e3cb-44ba-fbc4-7325d84a1bee"
      },
      "execution_count": null,
      "outputs": [
        {
          "output_type": "execute_result",
          "data": {
            "text/plain": [
              "-0.2831465"
            ]
          },
          "metadata": {},
          "execution_count": 36
        }
      ]
    },
    {
      "cell_type": "markdown",
      "source": [
        "# SVR"
      ],
      "metadata": {
        "id": "XXuNN2ZKaejY"
      }
    },
    {
      "cell_type": "code",
      "source": [
        "from sklearn.preprocessing import StandardScaler\n",
        "sc_x = StandardScaler()\n",
        "sc_y = StandardScaler()\n",
        "\n",
        "xs = sc_x.fit_transform(x_train)\n",
        "y_train_svr = y_train.reshape(-1, 1)\n",
        "ys = sc_y.fit_transform(y_train_svr)"
      ],
      "metadata": {
        "id": "W32tpu1oY1bH"
      },
      "execution_count": null,
      "outputs": []
    },
    {
      "cell_type": "code",
      "source": [
        "from sklearn.svm import SVR\n",
        "bionicleg_svr = SVR(kernel = 'rbf')\n",
        "bionicleg_svr.fit(xs, ys)"
      ],
      "metadata": {
        "colab": {
          "base_uri": "https://localhost:8080/"
        },
        "id": "wUTMJozOa_68",
        "outputId": "6aafb17b-438d-4ef6-cb62-d23ded53dcc5"
      },
      "execution_count": null,
      "outputs": [
        {
          "output_type": "stream",
          "name": "stderr",
          "text": [
            "/usr/local/lib/python3.7/dist-packages/sklearn/utils/validation.py:993: DataConversionWarning: A column-vector y was passed when a 1d array was expected. Please change the shape of y to (n_samples, ), for example using ravel().\n",
            "  y = column_or_1d(y, warn=True)\n"
          ]
        },
        {
          "output_type": "execute_result",
          "data": {
            "text/plain": [
              "SVR()"
            ]
          },
          "metadata": {},
          "execution_count": 145
        }
      ]
    },
    {
      "cell_type": "code",
      "source": [
        "bionicleg_svr.score(x_valid, y_valid)"
      ],
      "metadata": {
        "colab": {
          "base_uri": "https://localhost:8080/"
        },
        "id": "zKdGFg2obmjV",
        "outputId": "b9ff6111-a920-4684-962f-b6e53fcc603f"
      },
      "execution_count": null,
      "outputs": [
        {
          "output_type": "execute_result",
          "data": {
            "text/plain": [
              "-3.209343797902589"
            ]
          },
          "metadata": {},
          "execution_count": 146
        }
      ]
    },
    {
      "cell_type": "code",
      "source": [],
      "metadata": {
        "id": "XXe4kZ9scI9e"
      },
      "execution_count": null,
      "outputs": []
    }
  ]
}